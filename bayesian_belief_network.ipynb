{
 "cells": [
  {
   "cell_type": "code",
   "execution_count": 1,
   "metadata": {},
   "outputs": [],
   "source": [
    "import pandas as pd"
   ]
  },
  {
   "cell_type": "code",
   "execution_count": 2,
   "metadata": {},
   "outputs": [
    {
     "data": {
      "text/html": [
       "<div>\n",
       "<style scoped>\n",
       "    .dataframe tbody tr th:only-of-type {\n",
       "        vertical-align: middle;\n",
       "    }\n",
       "\n",
       "    .dataframe tbody tr th {\n",
       "        vertical-align: top;\n",
       "    }\n",
       "\n",
       "    .dataframe thead th {\n",
       "        text-align: right;\n",
       "    }\n",
       "</style>\n",
       "<table border=\"1\" class=\"dataframe\">\n",
       "  <thead>\n",
       "    <tr style=\"text-align: right;\">\n",
       "      <th></th>\n",
       "      <th>24</th>\n",
       "      <th>2</th>\n",
       "      <th>3</th>\n",
       "      <th>3.1</th>\n",
       "      <th>1</th>\n",
       "      <th>1.1</th>\n",
       "      <th>2.1</th>\n",
       "      <th>3.2</th>\n",
       "      <th>0</th>\n",
       "      <th>1.2</th>\n",
       "    </tr>\n",
       "  </thead>\n",
       "  <tbody>\n",
       "    <tr>\n",
       "      <th>0</th>\n",
       "      <td>45</td>\n",
       "      <td>1</td>\n",
       "      <td>3</td>\n",
       "      <td>10</td>\n",
       "      <td>1</td>\n",
       "      <td>1</td>\n",
       "      <td>3</td>\n",
       "      <td>4</td>\n",
       "      <td>0</td>\n",
       "      <td>1</td>\n",
       "    </tr>\n",
       "    <tr>\n",
       "      <th>1</th>\n",
       "      <td>43</td>\n",
       "      <td>2</td>\n",
       "      <td>3</td>\n",
       "      <td>7</td>\n",
       "      <td>1</td>\n",
       "      <td>1</td>\n",
       "      <td>3</td>\n",
       "      <td>4</td>\n",
       "      <td>0</td>\n",
       "      <td>1</td>\n",
       "    </tr>\n",
       "    <tr>\n",
       "      <th>2</th>\n",
       "      <td>42</td>\n",
       "      <td>3</td>\n",
       "      <td>2</td>\n",
       "      <td>9</td>\n",
       "      <td>1</td>\n",
       "      <td>1</td>\n",
       "      <td>3</td>\n",
       "      <td>3</td>\n",
       "      <td>0</td>\n",
       "      <td>1</td>\n",
       "    </tr>\n",
       "    <tr>\n",
       "      <th>3</th>\n",
       "      <td>36</td>\n",
       "      <td>3</td>\n",
       "      <td>3</td>\n",
       "      <td>8</td>\n",
       "      <td>1</td>\n",
       "      <td>1</td>\n",
       "      <td>3</td>\n",
       "      <td>2</td>\n",
       "      <td>0</td>\n",
       "      <td>1</td>\n",
       "    </tr>\n",
       "    <tr>\n",
       "      <th>4</th>\n",
       "      <td>19</td>\n",
       "      <td>4</td>\n",
       "      <td>4</td>\n",
       "      <td>0</td>\n",
       "      <td>1</td>\n",
       "      <td>1</td>\n",
       "      <td>3</td>\n",
       "      <td>3</td>\n",
       "      <td>0</td>\n",
       "      <td>1</td>\n",
       "    </tr>\n",
       "    <tr>\n",
       "      <th>...</th>\n",
       "      <td>...</td>\n",
       "      <td>...</td>\n",
       "      <td>...</td>\n",
       "      <td>...</td>\n",
       "      <td>...</td>\n",
       "      <td>...</td>\n",
       "      <td>...</td>\n",
       "      <td>...</td>\n",
       "      <td>...</td>\n",
       "      <td>...</td>\n",
       "    </tr>\n",
       "    <tr>\n",
       "      <th>1467</th>\n",
       "      <td>33</td>\n",
       "      <td>4</td>\n",
       "      <td>4</td>\n",
       "      <td>2</td>\n",
       "      <td>1</td>\n",
       "      <td>0</td>\n",
       "      <td>2</td>\n",
       "      <td>4</td>\n",
       "      <td>0</td>\n",
       "      <td>3</td>\n",
       "    </tr>\n",
       "    <tr>\n",
       "      <th>1468</th>\n",
       "      <td>33</td>\n",
       "      <td>4</td>\n",
       "      <td>4</td>\n",
       "      <td>3</td>\n",
       "      <td>1</td>\n",
       "      <td>1</td>\n",
       "      <td>1</td>\n",
       "      <td>4</td>\n",
       "      <td>0</td>\n",
       "      <td>3</td>\n",
       "    </tr>\n",
       "    <tr>\n",
       "      <th>1469</th>\n",
       "      <td>39</td>\n",
       "      <td>3</td>\n",
       "      <td>3</td>\n",
       "      <td>8</td>\n",
       "      <td>1</td>\n",
       "      <td>0</td>\n",
       "      <td>1</td>\n",
       "      <td>4</td>\n",
       "      <td>0</td>\n",
       "      <td>3</td>\n",
       "    </tr>\n",
       "    <tr>\n",
       "      <th>1470</th>\n",
       "      <td>33</td>\n",
       "      <td>3</td>\n",
       "      <td>3</td>\n",
       "      <td>4</td>\n",
       "      <td>1</td>\n",
       "      <td>0</td>\n",
       "      <td>2</td>\n",
       "      <td>2</td>\n",
       "      <td>0</td>\n",
       "      <td>3</td>\n",
       "    </tr>\n",
       "    <tr>\n",
       "      <th>1471</th>\n",
       "      <td>17</td>\n",
       "      <td>3</td>\n",
       "      <td>3</td>\n",
       "      <td>1</td>\n",
       "      <td>1</td>\n",
       "      <td>1</td>\n",
       "      <td>2</td>\n",
       "      <td>4</td>\n",
       "      <td>0</td>\n",
       "      <td>3</td>\n",
       "    </tr>\n",
       "  </tbody>\n",
       "</table>\n",
       "<p>1472 rows × 10 columns</p>\n",
       "</div>"
      ],
      "text/plain": [
       "      24  2  3  3.1  1  1.1  2.1  3.2  0  1.2\n",
       "0     45  1  3   10  1    1    3    4  0    1\n",
       "1     43  2  3    7  1    1    3    4  0    1\n",
       "2     42  3  2    9  1    1    3    3  0    1\n",
       "3     36  3  3    8  1    1    3    2  0    1\n",
       "4     19  4  4    0  1    1    3    3  0    1\n",
       "...   .. .. ..  ... ..  ...  ...  ... ..  ...\n",
       "1467  33  4  4    2  1    0    2    4  0    3\n",
       "1468  33  4  4    3  1    1    1    4  0    3\n",
       "1469  39  3  3    8  1    0    1    4  0    3\n",
       "1470  33  3  3    4  1    0    2    2  0    3\n",
       "1471  17  3  3    1  1    1    2    4  0    3\n",
       "\n",
       "[1472 rows x 10 columns]"
      ]
     },
     "execution_count": 2,
     "metadata": {},
     "output_type": "execute_result"
    }
   ],
   "source": [
    "ds = pd.read_csv('cmc.data.csv')\n",
    "ds.head()"
   ]
  },
  {
   "cell_type": "code",
   "execution_count": 3,
   "metadata": {},
   "outputs": [
    {
     "data": {
      "text/html": [
       "<div>\n",
       "<style scoped>\n",
       "    .dataframe tbody tr th:only-of-type {\n",
       "        vertical-align: middle;\n",
       "    }\n",
       "\n",
       "    .dataframe tbody tr th {\n",
       "        vertical-align: top;\n",
       "    }\n",
       "\n",
       "    .dataframe thead th {\n",
       "        text-align: right;\n",
       "    }\n",
       "</style>\n",
       "<table border=\"1\" class=\"dataframe\">\n",
       "  <thead>\n",
       "    <tr style=\"text-align: right;\">\n",
       "      <th></th>\n",
       "      <th>wife_age</th>\n",
       "      <th>wife_education</th>\n",
       "      <th>husband_education</th>\n",
       "      <th>number_of_children</th>\n",
       "      <th>wife_religion</th>\n",
       "      <th>wife_work</th>\n",
       "      <th>husband_occupation</th>\n",
       "      <th>standard_of_living</th>\n",
       "      <th>media_exposure</th>\n",
       "      <th>contraceptive_method_used</th>\n",
       "    </tr>\n",
       "  </thead>\n",
       "  <tbody>\n",
       "    <tr>\n",
       "      <th>0</th>\n",
       "      <td>45</td>\n",
       "      <td>1</td>\n",
       "      <td>3</td>\n",
       "      <td>10</td>\n",
       "      <td>1</td>\n",
       "      <td>1</td>\n",
       "      <td>3</td>\n",
       "      <td>4</td>\n",
       "      <td>0</td>\n",
       "      <td>1</td>\n",
       "    </tr>\n",
       "    <tr>\n",
       "      <th>1</th>\n",
       "      <td>43</td>\n",
       "      <td>2</td>\n",
       "      <td>3</td>\n",
       "      <td>7</td>\n",
       "      <td>1</td>\n",
       "      <td>1</td>\n",
       "      <td>3</td>\n",
       "      <td>4</td>\n",
       "      <td>0</td>\n",
       "      <td>1</td>\n",
       "    </tr>\n",
       "    <tr>\n",
       "      <th>2</th>\n",
       "      <td>42</td>\n",
       "      <td>3</td>\n",
       "      <td>2</td>\n",
       "      <td>9</td>\n",
       "      <td>1</td>\n",
       "      <td>1</td>\n",
       "      <td>3</td>\n",
       "      <td>3</td>\n",
       "      <td>0</td>\n",
       "      <td>1</td>\n",
       "    </tr>\n",
       "    <tr>\n",
       "      <th>3</th>\n",
       "      <td>36</td>\n",
       "      <td>3</td>\n",
       "      <td>3</td>\n",
       "      <td>8</td>\n",
       "      <td>1</td>\n",
       "      <td>1</td>\n",
       "      <td>3</td>\n",
       "      <td>2</td>\n",
       "      <td>0</td>\n",
       "      <td>1</td>\n",
       "    </tr>\n",
       "    <tr>\n",
       "      <th>4</th>\n",
       "      <td>19</td>\n",
       "      <td>4</td>\n",
       "      <td>4</td>\n",
       "      <td>0</td>\n",
       "      <td>1</td>\n",
       "      <td>1</td>\n",
       "      <td>3</td>\n",
       "      <td>3</td>\n",
       "      <td>0</td>\n",
       "      <td>1</td>\n",
       "    </tr>\n",
       "  </tbody>\n",
       "</table>\n",
       "</div>"
      ],
      "text/plain": [
       "   wife_age  wife_education  husband_education  number_of_children  \\\n",
       "0        45               1                  3                  10   \n",
       "1        43               2                  3                   7   \n",
       "2        42               3                  2                   9   \n",
       "3        36               3                  3                   8   \n",
       "4        19               4                  4                   0   \n",
       "\n",
       "   wife_religion  wife_work  husband_occupation  standard_of_living  \\\n",
       "0              1          1                   3                   4   \n",
       "1              1          1                   3                   4   \n",
       "2              1          1                   3                   3   \n",
       "3              1          1                   3                   2   \n",
       "4              1          1                   3                   3   \n",
       "\n",
       "   media_exposure  contraceptive_method_used  \n",
       "0               0                          1  \n",
       "1               0                          1  \n",
       "2               0                          1  \n",
       "3               0                          1  \n",
       "4               0                          1  "
      ]
     },
     "execution_count": 3,
     "metadata": {},
     "output_type": "execute_result"
    }
   ],
   "source": [
    "ds.columns = [\"wife_age\", \"wife_education\", \"husband_education\", \"number_of_children\", \"wife_religion\", \"wife_work\", \"husband_occupation\", \"standard_of_living\", \"media_exposure\", \"contraceptive_method_used\"]\n",
    "ds.head()"
   ]
  },
  {
   "cell_type": "code",
   "execution_count": 4,
   "metadata": {},
   "outputs": [
    {
     "data": {
      "text/plain": [
       "(1472, 10)"
      ]
     },
     "execution_count": 4,
     "metadata": {},
     "output_type": "execute_result"
    }
   ],
   "source": [
    "ds.shape"
   ]
  },
  {
   "cell_type": "code",
   "execution_count": 5,
   "metadata": {},
   "outputs": [
    {
     "name": "stdout",
     "output_type": "stream",
     "text": [
      "Max no of children:  16\n",
      "Min no of children:  0\n"
     ]
    }
   ],
   "source": [
    "# print max and min no of children\n",
    "print(\"Max no of children: \", ds['number_of_children'].max())\n",
    "print(\"Min no of children: \", ds['number_of_children'].min())"
   ]
  },
  {
   "cell_type": "code",
   "execution_count": 6,
   "metadata": {},
   "outputs": [],
   "source": [
    "# split age 0: young 1:middle 2:old\n",
    "\n",
    "ds['wife_age'] = pd.cut(ds['wife_age'], bins=[0, 25, 40, 200], labels=[0, 1, 2])\n"
   ]
  },
  {
   "cell_type": "code",
   "execution_count": 7,
   "metadata": {},
   "outputs": [],
   "source": [
    "# group children as 0-3, 4-6, 7-10, 10+\n",
    "ds['number_of_children'] = pd.cut(ds['number_of_children'], bins=[-1, 3, 6, 10, 200], labels=[0, 1, 2, 3])\n"
   ]
  },
  {
   "cell_type": "code",
   "execution_count": 8,
   "metadata": {},
   "outputs": [
    {
     "data": {
      "text/html": [
       "<div>\n",
       "<style scoped>\n",
       "    .dataframe tbody tr th:only-of-type {\n",
       "        vertical-align: middle;\n",
       "    }\n",
       "\n",
       "    .dataframe tbody tr th {\n",
       "        vertical-align: top;\n",
       "    }\n",
       "\n",
       "    .dataframe thead th {\n",
       "        text-align: right;\n",
       "    }\n",
       "</style>\n",
       "<table border=\"1\" class=\"dataframe\">\n",
       "  <thead>\n",
       "    <tr style=\"text-align: right;\">\n",
       "      <th></th>\n",
       "      <th>wife_age</th>\n",
       "      <th>wife_education</th>\n",
       "      <th>husband_education</th>\n",
       "      <th>number_of_children</th>\n",
       "      <th>wife_religion</th>\n",
       "      <th>wife_work</th>\n",
       "      <th>husband_occupation</th>\n",
       "      <th>standard_of_living</th>\n",
       "      <th>media_exposure</th>\n",
       "      <th>contraceptive_method_used</th>\n",
       "    </tr>\n",
       "  </thead>\n",
       "  <tbody>\n",
       "    <tr>\n",
       "      <th>0</th>\n",
       "      <td>2</td>\n",
       "      <td>1</td>\n",
       "      <td>3</td>\n",
       "      <td>2</td>\n",
       "      <td>1</td>\n",
       "      <td>1</td>\n",
       "      <td>3</td>\n",
       "      <td>4</td>\n",
       "      <td>0</td>\n",
       "      <td>1</td>\n",
       "    </tr>\n",
       "    <tr>\n",
       "      <th>1</th>\n",
       "      <td>2</td>\n",
       "      <td>2</td>\n",
       "      <td>3</td>\n",
       "      <td>2</td>\n",
       "      <td>1</td>\n",
       "      <td>1</td>\n",
       "      <td>3</td>\n",
       "      <td>4</td>\n",
       "      <td>0</td>\n",
       "      <td>1</td>\n",
       "    </tr>\n",
       "    <tr>\n",
       "      <th>2</th>\n",
       "      <td>2</td>\n",
       "      <td>3</td>\n",
       "      <td>2</td>\n",
       "      <td>2</td>\n",
       "      <td>1</td>\n",
       "      <td>1</td>\n",
       "      <td>3</td>\n",
       "      <td>3</td>\n",
       "      <td>0</td>\n",
       "      <td>1</td>\n",
       "    </tr>\n",
       "    <tr>\n",
       "      <th>3</th>\n",
       "      <td>1</td>\n",
       "      <td>3</td>\n",
       "      <td>3</td>\n",
       "      <td>2</td>\n",
       "      <td>1</td>\n",
       "      <td>1</td>\n",
       "      <td>3</td>\n",
       "      <td>2</td>\n",
       "      <td>0</td>\n",
       "      <td>1</td>\n",
       "    </tr>\n",
       "    <tr>\n",
       "      <th>4</th>\n",
       "      <td>0</td>\n",
       "      <td>4</td>\n",
       "      <td>4</td>\n",
       "      <td>0</td>\n",
       "      <td>1</td>\n",
       "      <td>1</td>\n",
       "      <td>3</td>\n",
       "      <td>3</td>\n",
       "      <td>0</td>\n",
       "      <td>1</td>\n",
       "    </tr>\n",
       "  </tbody>\n",
       "</table>\n",
       "</div>"
      ],
      "text/plain": [
       "  wife_age  wife_education  husband_education number_of_children  \\\n",
       "0        2               1                  3                  2   \n",
       "1        2               2                  3                  2   \n",
       "2        2               3                  2                  2   \n",
       "3        1               3                  3                  2   \n",
       "4        0               4                  4                  0   \n",
       "\n",
       "   wife_religion  wife_work  husband_occupation  standard_of_living  \\\n",
       "0              1          1                   3                   4   \n",
       "1              1          1                   3                   4   \n",
       "2              1          1                   3                   3   \n",
       "3              1          1                   3                   2   \n",
       "4              1          1                   3                   3   \n",
       "\n",
       "   media_exposure  contraceptive_method_used  \n",
       "0               0                          1  \n",
       "1               0                          1  \n",
       "2               0                          1  \n",
       "3               0                          1  \n",
       "4               0                          1  "
      ]
     },
     "execution_count": 8,
     "metadata": {},
     "output_type": "execute_result"
    }
   ],
   "source": [
    "ds.head()"
   ]
  },
  {
   "cell_type": "code",
   "execution_count": 9,
   "metadata": {},
   "outputs": [
    {
     "data": {
      "text/plain": [
       "False"
      ]
     },
     "execution_count": 9,
     "metadata": {},
     "output_type": "execute_result"
    }
   ],
   "source": [
    "# check if nan values is present\n",
    "\n",
    "ds.isnull().values.any()"
   ]
  },
  {
   "cell_type": "code",
   "execution_count": 10,
   "metadata": {},
   "outputs": [
    {
     "data": {
      "text/plain": [
       "{0: 0.24116847826086957, 1: 0.5509510869565217, 2: 0.2078804347826087}"
      ]
     },
     "execution_count": 10,
     "metadata": {},
     "output_type": "execute_result"
    }
   ],
   "source": [
    "# probability of wife age\n",
    "age_rows = ds['wife_age'].cat.categories\n",
    "age_dict = {}\n",
    "\n",
    "for i in age_rows:\n",
    "    age_dict[i] = len(ds[ds['wife_age'] == i]) / len(ds)\n",
    "\n",
    "age_dict"
   ]
  },
  {
   "cell_type": "code",
   "execution_count": 11,
   "metadata": {},
   "outputs": [
    {
     "data": {
      "text/plain": [
       "wife_age                     category\n",
       "wife_education                  int64\n",
       "husband_education               int64\n",
       "number_of_children           category\n",
       "wife_religion                   int64\n",
       "wife_work                       int64\n",
       "husband_occupation              int64\n",
       "standard_of_living              int64\n",
       "media_exposure                  int64\n",
       "contraceptive_method_used       int64\n",
       "dtype: object"
      ]
     },
     "execution_count": 11,
     "metadata": {},
     "output_type": "execute_result"
    }
   ],
   "source": [
    "# print datatypes of all columns\n",
    "ds.dtypes"
   ]
  },
  {
   "cell_type": "code",
   "execution_count": 12,
   "metadata": {},
   "outputs": [
    {
     "data": {
      "text/plain": [
       "{1: 0.10326086956521739,\n",
       " 2: 0.2262228260869565,\n",
       " 3: 0.27853260869565216,\n",
       " 4: 0.3919836956521739}"
      ]
     },
     "execution_count": 12,
     "metadata": {},
     "output_type": "execute_result"
    }
   ],
   "source": [
    "# probability of wife education\n",
    "education_rows = ds['wife_education'].unique()\n",
    "education_dict = {}\n",
    "education_rows.sort()\n",
    "\n",
    "for i in education_rows:\n",
    "    education_dict[i] = len(ds[ds['wife_education'] == i]) / len(ds)\n",
    "\n",
    "education_dict"
   ]
  },
  {
   "cell_type": "code",
   "execution_count": 13,
   "metadata": {},
   "outputs": [
    {
     "data": {
      "text/plain": [
       "{1: 0.029891304347826088,\n",
       " 2: 0.12092391304347826,\n",
       " 3: 0.23845108695652173,\n",
       " 4: 0.610733695652174}"
      ]
     },
     "execution_count": 13,
     "metadata": {},
     "output_type": "execute_result"
    }
   ],
   "source": [
    "# probability of husband education\n",
    "husband_education_rows = ds['husband_education'].unique()\n",
    "husband_education_dict = {}\n",
    "husband_education_rows.sort()\n",
    "\n",
    "for i in husband_education_rows:\n",
    "    husband_education_dict[i] = len(ds[ds['husband_education'] == i]) / len(ds)\n",
    "\n",
    "husband_education_dict"
   ]
  },
  {
   "cell_type": "code",
   "execution_count": 14,
   "metadata": {},
   "outputs": [
    {
     "data": {
      "text/plain": [
       "{0: 0.14945652173913043, 1: 0.8505434782608695}"
      ]
     },
     "execution_count": 14,
     "metadata": {},
     "output_type": "execute_result"
    }
   ],
   "source": [
    "# probability of wife religion\n",
    "\n",
    "religion_rows = ds['wife_religion'].unique()\n",
    "religion_dict = {}\n",
    "religion_rows.sort()\n",
    "\n",
    "for i in religion_rows:\n",
    "    religion_dict[i] = len(ds[ds['wife_religion'] == i]) / len(ds)\n",
    "\n",
    "religion_dict"
   ]
  },
  {
   "cell_type": "code",
   "execution_count": 15,
   "metadata": {},
   "outputs": [
    {
     "name": "stdout",
     "output_type": "stream",
     "text": [
      "{1: {1: 0.7697368421052632, 2: 0.7747747747747747, 3: 0.7829268292682927, 4: 0.7053726169844021}, 0: {1: 0.23026315789473684, 2: 0.22522522522522523, 3: 0.21707317073170732, 4: 0.29462738301559793}}\n",
      "{1: 0.7493206521739131, 0: 0.250679347826087}\n"
     ]
    }
   ],
   "source": [
    "# probability of wife work depends on wife education\n",
    "\n",
    "work_rows = ds['wife_work'].unique()\n",
    "work_dict = {}\n",
    "prob_work = {}\n",
    "\n",
    "for i in work_rows:\n",
    "    ls = {}\n",
    "    temp = 0\n",
    "    for j in education_rows:\n",
    "        ls[j] = len(ds[(ds['wife_work'] == i) & (ds['wife_education'] == j)]) / len(ds[ds['wife_education'] == j])\n",
    "        temp += ls[j] * education_dict[j]\n",
    "    work_dict[i] = ls\n",
    "    prob_work[i] = temp\n",
    "\n",
    "print(work_dict)\n",
    "print(prob_work)\n"
   ]
  },
  {
   "cell_type": "code",
   "execution_count": 16,
   "metadata": {},
   "outputs": [
    {
     "name": "stdout",
     "output_type": "stream",
     "text": [
      "{3: {1: 0.5, 2: 0.550561797752809, 3: 0.5498575498575499, 4: 0.3025583982202447}, 2: {1: 0.4090909090909091, 2: 0.37640449438202245, 3: 0.3504273504273504, 4: 0.24026696329254726}, 1: {1: 0.022727272727272728, 2: 0.033707865168539325, 3: 0.08547008547008547, 4: 0.44382647385984425}, 4: {1: 0.06818181818181818, 2: 0.03932584269662921, 3: 0.014245014245014245, 4: 0.013348164627363738}}\n",
      "{3: 0.39741847826086957, 2: 0.28804347826086957, 1: 0.2961956521739131, 4: 0.018342391304347824}\n",
      "{1: {1: 0.022727272727272728,\n",
      "     2: 0.033707865168539325,\n",
      "     3: 0.08547008547008547,\n",
      "     4: 0.44382647385984425},\n",
      " 2: {1: 0.4090909090909091,\n",
      "     2: 0.37640449438202245,\n",
      "     3: 0.3504273504273504,\n",
      "     4: 0.24026696329254726},\n",
      " 3: {1: 0.5,\n",
      "     2: 0.550561797752809,\n",
      "     3: 0.5498575498575499,\n",
      "     4: 0.3025583982202447},\n",
      " 4: {1: 0.06818181818181818,\n",
      "     2: 0.03932584269662921,\n",
      "     3: 0.014245014245014245,\n",
      "     4: 0.013348164627363738}}\n"
     ]
    }
   ],
   "source": [
    "# probability of husband occupation depends on husband education\n",
    "\n",
    "occupation_rows = ds['husband_occupation'].unique()\n",
    "occupation_dict = {}\n",
    "prob_occupation = {}\n",
    "\n",
    "for i in occupation_rows:\n",
    "    ls = {}\n",
    "    temp = 0\n",
    "    for j in husband_education_rows:\n",
    "        ls[j] = len(ds[(ds['husband_occupation'] == i) & (ds['husband_education'] == j)]) / len(ds[ds['husband_education'] == j])\n",
    "        temp += ls[j] * husband_education_dict[j]\n",
    "    occupation_dict[i] = ls\n",
    "    prob_occupation[i] = temp\n",
    "\n",
    "print(prob_occupation)\n",
    "# pretty print occupation_dict\n",
    "import pprint\n",
    "pprint.pprint(occupation_dict)\n"
   ]
  },
  {
   "cell_type": "code",
   "execution_count": 32,
   "metadata": {},
   "outputs": [
    {
     "name": "stdout",
     "output_type": "stream",
     "text": [
      "1 :\n",
      "\t 1 :\n",
      "\t\t 3 :  0.1434878587196468\n",
      "\t\t 2 :  0.11326860841423948\n",
      "\t\t 1 :  0.018461538461538463\n",
      "\t\t 4 :  0.1875\n",
      "\t 0 :\n",
      "\t\t 3 :  0.09090909090909091\n",
      "\t\t 2 :  0.043478260869565216\n",
      "\t\t 1 :  0.009009009009009009\n",
      "\t\t 4 :  0.18181818181818182\n",
      "2 :\n",
      "\t 1 :\n",
      "\t\t 3 :  0.1986754966887417\n",
      "\t\t 2 :  0.1715210355987055\n",
      "\t\t 1 :  0.08\n",
      "\t\t 4 :  0.1875\n",
      "\t 0 :\n",
      "\t\t 3 :  0.23484848484848486\n",
      "\t\t 2 :  0.19130434782608696\n",
      "\t\t 1 :  0.02702702702702703\n",
      "\t\t 4 :  0.09090909090909091\n",
      "3 :\n",
      "\t 1 :\n",
      "\t\t 3 :  0.33774834437086093\n",
      "\t\t 2 :  0.313915857605178\n",
      "\t\t 1 :  0.24\n",
      "\t\t 4 :  0.25\n",
      "\t 0 :\n",
      "\t\t 3 :  0.3409090909090909\n",
      "\t\t 2 :  0.2\n",
      "\t\t 1 :  0.26126126126126126\n",
      "\t\t 4 :  0.09090909090909091\n",
      "4 :\n",
      "\t 1 :\n",
      "\t\t 3 :  0.3200883002207506\n",
      "\t\t 2 :  0.40129449838187703\n",
      "\t\t 1 :  0.6615384615384615\n",
      "\t\t 4 :  0.375\n",
      "\t 0 :\n",
      "\t\t 3 :  0.3333333333333333\n",
      "\t\t 2 :  0.5652173913043478\n",
      "\t\t 1 :  0.7027027027027027\n",
      "\t\t 4 :  0.6363636363636364\n"
     ]
    }
   ],
   "source": [
    "# probability of standard of living depends on wife work and husband work\n",
    "\n",
    "living_rows = ds['standard_of_living'].unique()\n",
    "living_dict = {}\n",
    "prob_living = {}\n",
    "# sort living rows\n",
    "living_rows.sort()\n",
    "\n",
    "for i in living_rows:\n",
    "    ls = {}\n",
    "    temp = 0\n",
    "    for j in work_rows:\n",
    "        ls2 = {}\n",
    "        for k in occupation_rows:\n",
    "            ls2[k] = len(ds[(ds['standard_of_living'] == i) & (ds['wife_work'] == j) & (ds['husband_occupation'] == k)]) / len(ds[(ds['wife_work'] == j) & (ds['husband_occupation'] == k)])\n",
    "            temp += ls2[k] * prob_work[j] * prob_occupation[k]\n",
    "        ls[j] = ls2\n",
    "    living_dict[i] = ls\n",
    "    prob_living[i] = temp\n",
    "\n",
    "# print(living_dict)\n",
    "\n",
    "# pretty print living_dict\n",
    "for i in living_dict:\n",
    "    print(i, \":\")\n",
    "    for j in living_dict[i]:\n",
    "        print(\"\\t\", j, \":\")\n",
    "        for k in living_dict[i][j]:\n",
    "            print(\"\\t\\t\", k, \": \", living_dict[i][j][k])\n",
    "\n"
   ]
  },
  {
   "cell_type": "code",
   "execution_count": 18,
   "metadata": {},
   "outputs": [
    {
     "name": "stdout",
     "output_type": "stream",
     "text": [
      "{2: {1: 0.11627906976744186, 2: 0.08296943231441048, 3: 0.09534883720930233, 4: 0.07017543859649122}, 0: {1: 0.6356589147286822, 2: 0.5851528384279476, 3: 0.6116279069767442, 4: 0.6257309941520468}, 1: {1: 0.23255813953488372, 2: 0.31877729257641924, 3: 0.27906976744186046, 4: 0.29385964912280704}, 3: {1: 0.015503875968992248, 2: 0.013100436681222707, 3: 0.013953488372093023, 4: 0.01023391812865497}}\n"
     ]
    }
   ],
   "source": [
    "# find probability of no of children\n",
    "\n",
    "children_rows = ds['number_of_children'].unique()\n",
    "children_dict = {}\n",
    "prob_children = {}\n",
    "\n",
    "for i in children_rows:\n",
    "    ls = {}\n",
    "    temp = 0\n",
    "    for j in living_rows:\n",
    "        ls[j] = len(ds[(ds['number_of_children'] == i) & (ds['standard_of_living'] == j)]) / len(ds[ds['standard_of_living'] == j])\n",
    "        temp += ls[j] * prob_living[j]\n",
    "    children_dict[i] = ls\n",
    "    prob_children[i] = temp\n",
    "\n",
    "print(children_dict)"
   ]
  },
  {
   "cell_type": "code",
   "execution_count": 19,
   "metadata": {},
   "outputs": [
    {
     "name": "stdout",
     "output_type": "stream",
     "text": [
      "{0: 0.9259510869565217, 1: 0.07404891304347826}\n"
     ]
    }
   ],
   "source": [
    "# find probability of media exposure, does not depend on anything\n",
    "\n",
    "media_rows = ds['media_exposure'].unique()\n",
    "media_dict = {}\n",
    "prob_media = {}\n",
    "\n",
    "for i in media_rows:\n",
    "    media_dict[i] = len(ds[ds['media_exposure'] == i]) / len(ds)\n",
    "    prob_media[i] = media_dict[i]\n",
    "\n",
    "print(media_dict)"
   ]
  },
  {
   "cell_type": "code",
   "execution_count": 21,
   "metadata": {},
   "outputs": [
    {
     "data": {
      "text/html": [
       "<div>\n",
       "<style scoped>\n",
       "    .dataframe tbody tr th:only-of-type {\n",
       "        vertical-align: middle;\n",
       "    }\n",
       "\n",
       "    .dataframe tbody tr th {\n",
       "        vertical-align: top;\n",
       "    }\n",
       "\n",
       "    .dataframe thead th {\n",
       "        text-align: right;\n",
       "    }\n",
       "</style>\n",
       "<table border=\"1\" class=\"dataframe\">\n",
       "  <thead>\n",
       "    <tr style=\"text-align: right;\">\n",
       "      <th></th>\n",
       "      <th>wife_age</th>\n",
       "      <th>wife_education</th>\n",
       "      <th>husband_education</th>\n",
       "      <th>number_of_children</th>\n",
       "      <th>wife_religion</th>\n",
       "      <th>wife_work</th>\n",
       "      <th>husband_occupation</th>\n",
       "      <th>standard_of_living</th>\n",
       "      <th>media_exposure</th>\n",
       "      <th>contraceptive_method_used</th>\n",
       "    </tr>\n",
       "  </thead>\n",
       "  <tbody>\n",
       "    <tr>\n",
       "      <th>0</th>\n",
       "      <td>2</td>\n",
       "      <td>1</td>\n",
       "      <td>3</td>\n",
       "      <td>2</td>\n",
       "      <td>1</td>\n",
       "      <td>1</td>\n",
       "      <td>3</td>\n",
       "      <td>4</td>\n",
       "      <td>0</td>\n",
       "      <td>1</td>\n",
       "    </tr>\n",
       "    <tr>\n",
       "      <th>1</th>\n",
       "      <td>2</td>\n",
       "      <td>2</td>\n",
       "      <td>3</td>\n",
       "      <td>2</td>\n",
       "      <td>1</td>\n",
       "      <td>1</td>\n",
       "      <td>3</td>\n",
       "      <td>4</td>\n",
       "      <td>0</td>\n",
       "      <td>1</td>\n",
       "    </tr>\n",
       "    <tr>\n",
       "      <th>2</th>\n",
       "      <td>2</td>\n",
       "      <td>3</td>\n",
       "      <td>2</td>\n",
       "      <td>2</td>\n",
       "      <td>1</td>\n",
       "      <td>1</td>\n",
       "      <td>3</td>\n",
       "      <td>3</td>\n",
       "      <td>0</td>\n",
       "      <td>1</td>\n",
       "    </tr>\n",
       "    <tr>\n",
       "      <th>3</th>\n",
       "      <td>1</td>\n",
       "      <td>3</td>\n",
       "      <td>3</td>\n",
       "      <td>2</td>\n",
       "      <td>1</td>\n",
       "      <td>1</td>\n",
       "      <td>3</td>\n",
       "      <td>2</td>\n",
       "      <td>0</td>\n",
       "      <td>1</td>\n",
       "    </tr>\n",
       "    <tr>\n",
       "      <th>4</th>\n",
       "      <td>0</td>\n",
       "      <td>4</td>\n",
       "      <td>4</td>\n",
       "      <td>0</td>\n",
       "      <td>1</td>\n",
       "      <td>1</td>\n",
       "      <td>3</td>\n",
       "      <td>3</td>\n",
       "      <td>0</td>\n",
       "      <td>1</td>\n",
       "    </tr>\n",
       "  </tbody>\n",
       "</table>\n",
       "</div>"
      ],
      "text/plain": [
       "  wife_age  wife_education  husband_education number_of_children  \\\n",
       "0        2               1                  3                  2   \n",
       "1        2               2                  3                  2   \n",
       "2        2               3                  2                  2   \n",
       "3        1               3                  3                  2   \n",
       "4        0               4                  4                  0   \n",
       "\n",
       "   wife_religion  wife_work  husband_occupation  standard_of_living  \\\n",
       "0              1          1                   3                   4   \n",
       "1              1          1                   3                   4   \n",
       "2              1          1                   3                   3   \n",
       "3              1          1                   3                   2   \n",
       "4              1          1                   3                   3   \n",
       "\n",
       "   media_exposure  contraceptive_method_used  \n",
       "0               0                          1  \n",
       "1               0                          1  \n",
       "2               0                          1  \n",
       "3               0                          1  \n",
       "4               0                          1  "
      ]
     },
     "execution_count": 21,
     "metadata": {},
     "output_type": "execute_result"
    }
   ],
   "source": [
    "ds.head()"
   ]
  },
  {
   "cell_type": "code",
   "execution_count": 27,
   "metadata": {},
   "outputs": [
    {
     "name": "stdout",
     "output_type": "stream",
     "text": [
      "{1: 0.42422090100141174, 2: 0.2270201346784538, 3: 0.3487589643201346}\n"
     ]
    }
   ],
   "source": [
    "# probability of contraceptive method\n",
    "# depends on media_exposure and no_of_children\n",
    "\n",
    "\n",
    "method_rows = ds['contraceptive_method_used'].unique()\n",
    "method_dict = {}\n",
    "prob_method = {}\n",
    "\n",
    "for i in method_rows:\n",
    "    ls = {}\n",
    "    temp = 0\n",
    "    for j in media_rows:\n",
    "        ls2 = {}\n",
    "        for k in children_rows:\n",
    "            ls2[k] = len(ds[(ds['contraceptive_method_used'] == i) & (ds['media_exposure'] == j) & (ds['number_of_children'] == k)]) / len(ds[(ds['media_exposure'] == j) & (ds['number_of_children'] == k)])\n",
    "            temp += ls2[k] * prob_media[j] * prob_children[k]\n",
    "        ls[j] = ls2\n",
    "    method_dict[i] = ls\n",
    "    prob_method[i] = temp\n",
    "\n",
    "print(prob_method)"
   ]
  },
  {
   "cell_type": "code",
   "execution_count": 30,
   "metadata": {},
   "outputs": [
    {
     "name": "stdout",
     "output_type": "stream",
     "text": [
      "1 :  42.422090100141176 %\n",
      "2 :  22.70201346784538 %\n",
      "3 :  34.87589643201346 %\n"
     ]
    }
   ],
   "source": [
    "# print percentage of each contraceptive method\n",
    "\n",
    "for i in prob_method:\n",
    "    print(i, \": \", prob_method[i] * 100, \"%\")\n",
    "    "
   ]
  }
 ],
 "metadata": {
  "kernelspec": {
   "display_name": "Python 3.10.4 64-bit",
   "language": "python",
   "name": "python3"
  },
  "language_info": {
   "codemirror_mode": {
    "name": "ipython",
    "version": 3
   },
   "file_extension": ".py",
   "mimetype": "text/x-python",
   "name": "python",
   "nbconvert_exporter": "python",
   "pygments_lexer": "ipython3",
   "version": "3.10.4"
  },
  "orig_nbformat": 4,
  "vscode": {
   "interpreter": {
    "hash": "369f2c481f4da34e4445cda3fffd2e751bd1c4d706f27375911949ba6bb62e1c"
   }
  }
 },
 "nbformat": 4,
 "nbformat_minor": 2
}
